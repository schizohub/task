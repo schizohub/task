{
 "cells": [
  {
   "cell_type": "code",
   "execution_count": 339,
   "id": "72663768-1cd4-4aad-8352-4551c436d086",
   "metadata": {},
   "outputs": [],
   "source": [
    "import requests\n",
    "from bs4 import BeautifulSoup as bs\n",
    "import pandas as pd\n",
    "from datetime import datetime as dt"
   ]
  },
  {
   "cell_type": "code",
   "execution_count": 340,
   "id": "4e784d1c-7fcc-41ad-bb06-db6c99188560",
   "metadata": {},
   "outputs": [],
   "source": [
    "website1 = \"https://kun.uz/uz/news/2022/12/01/aqsh-moliya-vazirligi-rossiya-neftining-narxi-60-dollar-qilib-belgilanadi\"\n",
    "website2 = \"https://kun.uz/uz/news/2022/12/01/interpol-afrikaning-eng-boy-ayolini-qidiruvga-berdi\"\n",
    "website3 = \"https://kun.uz/uz/news/2022/12/01/ilon-maskning-neuralink-kompaniyasi-odamlarga-chip-ornatishni-boshlaydi\"\n",
    "website4 = \"https://kun.uz/uz/news/2022/12/01/jch-2022-marokash-va-xorvatiya-nimchorakfinalda-belgiya-turnir-bilan-xayrlashdi\"\n",
    "website5 = \"https://kun.uz/uz/news/2022/12/01/nato-bosh-kotibi-rossiyaning-ukrainaga-qarshi-urushi-kuchayishini-toxtatdik\""
   ]
  },
  {
   "cell_type": "code",
   "execution_count": 341,
   "id": "303efb60-2170-4a52-8d3a-8bbca3b30937",
   "metadata": {},
   "outputs": [],
   "source": [
    "result = [website1,website2,website3,website4,website5]\n",
    "results = {}"
   ]
  },
  {
   "cell_type": "code",
   "execution_count": 342,
   "id": "d5bcd56d-8967-42c9-821c-152b17ffa7f0",
   "metadata": {},
   "outputs": [],
   "source": [
    "def collect_data(url):\n",
    "    urld = requests.get(url)\n",
    "    source = bs(urld.content)\n",
    "    result = source.find_all(\"p\")\n",
    "    content = \"\"\n",
    "    for i in result:\n",
    "        content+=i.get_text()\n",
    "    k = content.replace(\"\\xa0\",\"\",content.count(\"\\xa0\"))\n",
    "    # content[-1] = k\n",
    "    access_datetime = dt.now().isoformat(' ',timespec=\"seconds\")\n",
    "    return [url, access_datetime, k]    "
   ]
  },
  {
   "cell_type": "code",
   "execution_count": 343,
   "id": "c7b61903-8b3b-4e9c-9d37-61efde667a30",
   "metadata": {},
   "outputs": [],
   "source": [
    "for i in range(len(result)):\n",
    "        results[i] = collect_data(result[i])"
   ]
  },
  {
   "cell_type": "code",
   "execution_count": 306,
   "id": "d3fd65b5-ed52-4022-8687-efcae47187ea",
   "metadata": {},
   "outputs": [],
   "source": [
    "# n = collect_data(\"https://kun.uz/uz/news/2022/12/01/aqsh-moliya-vazirligi-rossiya-neftining-narxi-60-dollar-qilib-belgilanadi\")"
   ]
  },
  {
   "cell_type": "code",
   "execution_count": 307,
   "id": "335ac976-421b-415f-a7e8-ae51b22b2885",
   "metadata": {},
   "outputs": [],
   "source": [
    "# n"
   ]
  },
  {
   "cell_type": "code",
   "execution_count": 429,
   "id": "84bff4f2-4f50-432e-b9c2-36ea5a62e976",
   "metadata": {},
   "outputs": [],
   "source": [
    "df = pd.DataFrame(results).T"
   ]
  },
  {
   "cell_type": "code",
   "execution_count": 345,
   "id": "fdda8415-a39e-4639-914d-de872038562f",
   "metadata": {},
   "outputs": [
    {
     "data": {
      "text/plain": [
       "'2022-12-02 09:09:51'"
      ]
     },
     "execution_count": 345,
     "metadata": {},
     "output_type": "execute_result"
    }
   ],
   "source": [
    "dt.now().isoformat(' ',timespec=\"seconds\")"
   ]
  },
  {
   "cell_type": "code",
   "execution_count": 431,
   "id": "0ae31f26-28e6-4467-b64a-35ba2f43bc21",
   "metadata": {},
   "outputs": [],
   "source": [
    "df.columns=['source_url','access_datetime','content']"
   ]
  },
  {
   "cell_type": "code",
   "execution_count": 432,
   "id": "ef986ad9-e7a1-4e01-9465-7bde8072006c",
   "metadata": {},
   "outputs": [
    {
     "data": {
      "text/html": [
       "<div>\n",
       "<style scoped>\n",
       "    .dataframe tbody tr th:only-of-type {\n",
       "        vertical-align: middle;\n",
       "    }\n",
       "\n",
       "    .dataframe tbody tr th {\n",
       "        vertical-align: top;\n",
       "    }\n",
       "\n",
       "    .dataframe thead th {\n",
       "        text-align: right;\n",
       "    }\n",
       "</style>\n",
       "<table border=\"1\" class=\"dataframe\">\n",
       "  <thead>\n",
       "    <tr style=\"text-align: right;\">\n",
       "      <th></th>\n",
       "      <th>source_url</th>\n",
       "      <th>access_datetime</th>\n",
       "      <th>content</th>\n",
       "    </tr>\n",
       "  </thead>\n",
       "  <tbody>\n",
       "    <tr>\n",
       "      <th>0</th>\n",
       "      <td>https://kun.uz/uz/news/2022/12/01/aqsh-moliya-...</td>\n",
       "      <td>2022-12-02 09:09:44</td>\n",
       "      <td>Rossiya neftining eng yuqori narxi bir barrel ...</td>\n",
       "    </tr>\n",
       "    <tr>\n",
       "      <th>1</th>\n",
       "      <td>https://kun.uz/uz/news/2022/12/01/interpol-afr...</td>\n",
       "      <td>2022-12-02 09:09:45</td>\n",
       "      <td>Interpol Angola sobiq prezidentining qizi Izab...</td>\n",
       "    </tr>\n",
       "    <tr>\n",
       "      <th>2</th>\n",
       "      <td>https://kun.uz/uz/news/2022/12/01/ilon-masknin...</td>\n",
       "      <td>2022-12-02 09:09:46</td>\n",
       "      <td>Ilon Mask o‘ziga tegishli Neuralink miya-kompy...</td>\n",
       "    </tr>\n",
       "    <tr>\n",
       "      <th>3</th>\n",
       "      <td>https://kun.uz/uz/news/2022/12/01/jch-2022-mar...</td>\n",
       "      <td>2022-12-02 09:09:47</td>\n",
       "      <td>Xorvatiya – Belgiya o‘yinida hisob ochilmadi. ...</td>\n",
       "    </tr>\n",
       "    <tr>\n",
       "      <th>4</th>\n",
       "      <td>https://kun.uz/uz/news/2022/12/01/nato-bosh-ko...</td>\n",
       "      <td>2022-12-02 09:09:47</td>\n",
       "      <td>Yyens Stoltenberg alyansning Rossiya Ukrainaga...</td>\n",
       "    </tr>\n",
       "  </tbody>\n",
       "</table>\n",
       "</div>"
      ],
      "text/plain": [
       "                                          source_url      access_datetime  \\\n",
       "0  https://kun.uz/uz/news/2022/12/01/aqsh-moliya-...  2022-12-02 09:09:44   \n",
       "1  https://kun.uz/uz/news/2022/12/01/interpol-afr...  2022-12-02 09:09:45   \n",
       "2  https://kun.uz/uz/news/2022/12/01/ilon-masknin...  2022-12-02 09:09:46   \n",
       "3  https://kun.uz/uz/news/2022/12/01/jch-2022-mar...  2022-12-02 09:09:47   \n",
       "4  https://kun.uz/uz/news/2022/12/01/nato-bosh-ko...  2022-12-02 09:09:47   \n",
       "\n",
       "                                             content  \n",
       "0  Rossiya neftining eng yuqori narxi bir barrel ...  \n",
       "1  Interpol Angola sobiq prezidentining qizi Izab...  \n",
       "2  Ilon Mask o‘ziga tegishli Neuralink miya-kompy...  \n",
       "3  Xorvatiya – Belgiya o‘yinida hisob ochilmadi. ...  \n",
       "4  Yyens Stoltenberg alyansning Rossiya Ukrainaga...  "
      ]
     },
     "execution_count": 432,
     "metadata": {},
     "output_type": "execute_result"
    }
   ],
   "source": [
    "df"
   ]
  },
  {
   "cell_type": "code",
   "execution_count": 370,
   "id": "21b15f3d-d88f-4ace-b8a5-e9b72dce1771",
   "metadata": {},
   "outputs": [
    {
     "data": {
      "text/plain": [
       "131"
      ]
     },
     "execution_count": 370,
     "metadata": {},
     "output_type": "execute_result"
    }
   ],
   "source": [
    "sr = df['content']\n",
    "\n",
    "len(df['content'][0].split())"
   ]
  },
  {
   "cell_type": "code",
   "execution_count": 475,
   "id": "2f235537-21fd-47b8-bfde-96cf813a00d0",
   "metadata": {},
   "outputs": [],
   "source": [
    "def count_words(df):\n",
    "    sr = df['content']\n",
    "    new = []\n",
    "    for s in sr:\n",
    "        k = s.split()\n",
    "        new.append(len(k))\n",
    "        \n",
    "    return new"
   ]
  },
  {
   "cell_type": "code",
   "execution_count": 476,
   "id": "a6790526-5577-4735-80a1-140f37436e99",
   "metadata": {},
   "outputs": [],
   "source": [
    "df['words_count'] = count_words(df)"
   ]
  },
  {
   "cell_type": "code",
   "execution_count": 477,
   "id": "f5511599-76e8-48e1-a453-1aee0236510c",
   "metadata": {},
   "outputs": [
    {
     "data": {
      "text/html": [
       "<div>\n",
       "<style scoped>\n",
       "    .dataframe tbody tr th:only-of-type {\n",
       "        vertical-align: middle;\n",
       "    }\n",
       "\n",
       "    .dataframe tbody tr th {\n",
       "        vertical-align: top;\n",
       "    }\n",
       "\n",
       "    .dataframe thead th {\n",
       "        text-align: right;\n",
       "    }\n",
       "</style>\n",
       "<table border=\"1\" class=\"dataframe\">\n",
       "  <thead>\n",
       "    <tr style=\"text-align: right;\">\n",
       "      <th></th>\n",
       "      <th>source_url</th>\n",
       "      <th>access_datetime</th>\n",
       "      <th>content</th>\n",
       "      <th>words_count</th>\n",
       "      <th>number_of_words</th>\n",
       "    </tr>\n",
       "  </thead>\n",
       "  <tbody>\n",
       "    <tr>\n",
       "      <th>0</th>\n",
       "      <td>https://kun.uz/uz/news/2022/12/01/aqsh-moliya-...</td>\n",
       "      <td>2022-12-02 09:09:44</td>\n",
       "      <td>Rossiya neftining eng yuqori narxi bir barrel ...</td>\n",
       "      <td>131</td>\n",
       "      <td>{'Rossiya': 5, 'neftining': 2, 'eng': 1, 'yuqo...</td>\n",
       "    </tr>\n",
       "    <tr>\n",
       "      <th>1</th>\n",
       "      <td>https://kun.uz/uz/news/2022/12/01/interpol-afr...</td>\n",
       "      <td>2022-12-02 09:09:45</td>\n",
       "      <td>Interpol Angola sobiq prezidentining qizi Izab...</td>\n",
       "      <td>145</td>\n",
       "      <td>{'Interpol': 1, 'Angola': 3, 'sobiq': 1, 'prez...</td>\n",
       "    </tr>\n",
       "    <tr>\n",
       "      <th>2</th>\n",
       "      <td>https://kun.uz/uz/news/2022/12/01/ilon-masknin...</td>\n",
       "      <td>2022-12-02 09:09:46</td>\n",
       "      <td>Ilon Mask o‘ziga tegishli Neuralink miya-kompy...</td>\n",
       "      <td>153</td>\n",
       "      <td>{'Ilon': 1, 'Mask': 2, 'o‘ziga': 3, 'tegishli'...</td>\n",
       "    </tr>\n",
       "    <tr>\n",
       "      <th>3</th>\n",
       "      <td>https://kun.uz/uz/news/2022/12/01/jch-2022-mar...</td>\n",
       "      <td>2022-12-02 09:09:47</td>\n",
       "      <td>Xorvatiya – Belgiya o‘yinida hisob ochilmadi. ...</td>\n",
       "      <td>188</td>\n",
       "      <td>{'Xorvatiya': 4, '–': 12, 'Belgiya': 4, 'o‘yin...</td>\n",
       "    </tr>\n",
       "    <tr>\n",
       "      <th>4</th>\n",
       "      <td>https://kun.uz/uz/news/2022/12/01/nato-bosh-ko...</td>\n",
       "      <td>2022-12-02 09:09:47</td>\n",
       "      <td>Yyens Stoltenberg alyansning Rossiya Ukrainaga...</td>\n",
       "      <td>318</td>\n",
       "      <td>{'Yyens': 2, 'Stoltenberg': 2, 'alyansning': 2...</td>\n",
       "    </tr>\n",
       "  </tbody>\n",
       "</table>\n",
       "</div>"
      ],
      "text/plain": [
       "                                          source_url      access_datetime  \\\n",
       "0  https://kun.uz/uz/news/2022/12/01/aqsh-moliya-...  2022-12-02 09:09:44   \n",
       "1  https://kun.uz/uz/news/2022/12/01/interpol-afr...  2022-12-02 09:09:45   \n",
       "2  https://kun.uz/uz/news/2022/12/01/ilon-masknin...  2022-12-02 09:09:46   \n",
       "3  https://kun.uz/uz/news/2022/12/01/jch-2022-mar...  2022-12-02 09:09:47   \n",
       "4  https://kun.uz/uz/news/2022/12/01/nato-bosh-ko...  2022-12-02 09:09:47   \n",
       "\n",
       "                                             content  words_count  \\\n",
       "0  Rossiya neftining eng yuqori narxi bir barrel ...          131   \n",
       "1  Interpol Angola sobiq prezidentining qizi Izab...          145   \n",
       "2  Ilon Mask o‘ziga tegishli Neuralink miya-kompy...          153   \n",
       "3  Xorvatiya – Belgiya o‘yinida hisob ochilmadi. ...          188   \n",
       "4  Yyens Stoltenberg alyansning Rossiya Ukrainaga...          318   \n",
       "\n",
       "                                     number_of_words  \n",
       "0  {'Rossiya': 5, 'neftining': 2, 'eng': 1, 'yuqo...  \n",
       "1  {'Interpol': 1, 'Angola': 3, 'sobiq': 1, 'prez...  \n",
       "2  {'Ilon': 1, 'Mask': 2, 'o‘ziga': 3, 'tegishli'...  \n",
       "3  {'Xorvatiya': 4, '–': 12, 'Belgiya': 4, 'o‘yin...  \n",
       "4  {'Yyens': 2, 'Stoltenberg': 2, 'alyansning': 2...  "
      ]
     },
     "execution_count": 477,
     "metadata": {},
     "output_type": "execute_result"
    }
   ],
   "source": [
    "df"
   ]
  },
  {
   "cell_type": "code",
   "execution_count": 479,
   "id": "967ecf9f-f692-49c1-8aaa-851d0eaf448b",
   "metadata": {},
   "outputs": [
    {
     "data": {
      "text/html": [
       "<div>\n",
       "<style scoped>\n",
       "    .dataframe tbody tr th:only-of-type {\n",
       "        vertical-align: middle;\n",
       "    }\n",
       "\n",
       "    .dataframe tbody tr th {\n",
       "        vertical-align: top;\n",
       "    }\n",
       "\n",
       "    .dataframe thead th {\n",
       "        text-align: right;\n",
       "    }\n",
       "</style>\n",
       "<table border=\"1\" class=\"dataframe\">\n",
       "  <thead>\n",
       "    <tr style=\"text-align: right;\">\n",
       "      <th></th>\n",
       "      <th>source_url</th>\n",
       "      <th>access_datetime</th>\n",
       "      <th>content</th>\n",
       "      <th>words_count</th>\n",
       "      <th>number_of_words</th>\n",
       "    </tr>\n",
       "  </thead>\n",
       "  <tbody>\n",
       "    <tr>\n",
       "      <th>0</th>\n",
       "      <td>https://kun.uz/uz/news/2022/12/01/aqsh-moliya-...</td>\n",
       "      <td>2022-12-02 09:09:44</td>\n",
       "      <td>Rossiya neftining eng yuqori narxi bir barrel ...</td>\n",
       "      <td>131</td>\n",
       "      <td>{'Rossiya': 5, 'neftining': 2, 'eng': 1, 'yuqo...</td>\n",
       "    </tr>\n",
       "    <tr>\n",
       "      <th>1</th>\n",
       "      <td>https://kun.uz/uz/news/2022/12/01/interpol-afr...</td>\n",
       "      <td>2022-12-02 09:09:45</td>\n",
       "      <td>Interpol Angola sobiq prezidentining qizi Izab...</td>\n",
       "      <td>145</td>\n",
       "      <td>{'Interpol': 1, 'Angola': 3, 'sobiq': 1, 'prez...</td>\n",
       "    </tr>\n",
       "    <tr>\n",
       "      <th>2</th>\n",
       "      <td>https://kun.uz/uz/news/2022/12/01/ilon-masknin...</td>\n",
       "      <td>2022-12-02 09:09:46</td>\n",
       "      <td>Ilon Mask o‘ziga tegishli Neuralink miya-kompy...</td>\n",
       "      <td>153</td>\n",
       "      <td>{'Ilon': 1, 'Mask': 2, 'o‘ziga': 3, 'tegishli'...</td>\n",
       "    </tr>\n",
       "    <tr>\n",
       "      <th>3</th>\n",
       "      <td>https://kun.uz/uz/news/2022/12/01/jch-2022-mar...</td>\n",
       "      <td>2022-12-02 09:09:47</td>\n",
       "      <td>Xorvatiya – Belgiya o‘yinida hisob ochilmadi. ...</td>\n",
       "      <td>188</td>\n",
       "      <td>{'Xorvatiya': 4, '–': 12, 'Belgiya': 4, 'o‘yin...</td>\n",
       "    </tr>\n",
       "    <tr>\n",
       "      <th>4</th>\n",
       "      <td>https://kun.uz/uz/news/2022/12/01/nato-bosh-ko...</td>\n",
       "      <td>2022-12-02 09:09:47</td>\n",
       "      <td>Yyens Stoltenberg alyansning Rossiya Ukrainaga...</td>\n",
       "      <td>318</td>\n",
       "      <td>{'Yyens': 2, 'Stoltenberg': 2, 'alyansning': 2...</td>\n",
       "    </tr>\n",
       "  </tbody>\n",
       "</table>\n",
       "</div>"
      ],
      "text/plain": [
       "                                          source_url      access_datetime  \\\n",
       "0  https://kun.uz/uz/news/2022/12/01/aqsh-moliya-...  2022-12-02 09:09:44   \n",
       "1  https://kun.uz/uz/news/2022/12/01/interpol-afr...  2022-12-02 09:09:45   \n",
       "2  https://kun.uz/uz/news/2022/12/01/ilon-masknin...  2022-12-02 09:09:46   \n",
       "3  https://kun.uz/uz/news/2022/12/01/jch-2022-mar...  2022-12-02 09:09:47   \n",
       "4  https://kun.uz/uz/news/2022/12/01/nato-bosh-ko...  2022-12-02 09:09:47   \n",
       "\n",
       "                                             content  words_count  \\\n",
       "0  Rossiya neftining eng yuqori narxi bir barrel ...          131   \n",
       "1  Interpol Angola sobiq prezidentining qizi Izab...          145   \n",
       "2  Ilon Mask o‘ziga tegishli Neuralink miya-kompy...          153   \n",
       "3  Xorvatiya – Belgiya o‘yinida hisob ochilmadi. ...          188   \n",
       "4  Yyens Stoltenberg alyansning Rossiya Ukrainaga...          318   \n",
       "\n",
       "                                     number_of_words  \n",
       "0  {'Rossiya': 5, 'neftining': 2, 'eng': 1, 'yuqo...  \n",
       "1  {'Interpol': 1, 'Angola': 3, 'sobiq': 1, 'prez...  \n",
       "2  {'Ilon': 1, 'Mask': 2, 'o‘ziga': 3, 'tegishli'...  \n",
       "3  {'Xorvatiya': 4, '–': 12, 'Belgiya': 4, 'o‘yin...  \n",
       "4  {'Yyens': 2, 'Stoltenberg': 2, 'alyansning': 2...  "
      ]
     },
     "execution_count": 479,
     "metadata": {},
     "output_type": "execute_result"
    }
   ],
   "source": [
    "def count_each_word(df):\n",
    "    \n",
    "    dic = []\n",
    "\n",
    "    for j in range(len(sr)):\n",
    "        number_of_words = {}\n",
    "        for i in sr[j].split():\n",
    "            if i not in number_of_words:\n",
    "                number_of_words[i] = 1\n",
    "            else:\n",
    "                number_of_words[i] += 1\n",
    "\n",
    "        dic.append(number_of_words)\n",
    "    return dic\n",
    "df['number_of_words'] = count_each_word(df)\n",
    "df"
   ]
  },
  {
   "cell_type": "code",
   "execution_count": 480,
   "id": "0ba2f7da-6275-4250-865c-41cf7db2f9c1",
   "metadata": {},
   "outputs": [
    {
     "name": "stdout",
     "output_type": "stream",
     "text": [
      "<class 'pandas.core.frame.DataFrame'>\n",
      "Int64Index: 5 entries, 0 to 4\n",
      "Data columns (total 5 columns):\n",
      " #   Column           Non-Null Count  Dtype \n",
      "---  ------           --------------  ----- \n",
      " 0   source_url       5 non-null      object\n",
      " 1   access_datetime  5 non-null      object\n",
      " 2   content          5 non-null      object\n",
      " 3   words_count      5 non-null      int64 \n",
      " 4   number_of_words  5 non-null      object\n",
      "dtypes: int64(1), object(4)\n",
      "memory usage: 412.0+ bytes\n"
     ]
    }
   ],
   "source": [
    "df.info()"
   ]
  },
  {
   "cell_type": "code",
   "execution_count": 484,
   "id": "23c8b006-9a6f-4afb-9572-767b13a81723",
   "metadata": {},
   "outputs": [],
   "source": [
    "df.to_csv(\"task.csv\",index=False)"
   ]
  },
  {
   "cell_type": "code",
   "execution_count": 486,
   "id": "03f67e4e-b07c-4fa7-9a8d-d50405078184",
   "metadata": {},
   "outputs": [
    {
     "data": {
      "text/html": [
       "<div>\n",
       "<style scoped>\n",
       "    .dataframe tbody tr th:only-of-type {\n",
       "        vertical-align: middle;\n",
       "    }\n",
       "\n",
       "    .dataframe tbody tr th {\n",
       "        vertical-align: top;\n",
       "    }\n",
       "\n",
       "    .dataframe thead th {\n",
       "        text-align: right;\n",
       "    }\n",
       "</style>\n",
       "<table border=\"1\" class=\"dataframe\">\n",
       "  <thead>\n",
       "    <tr style=\"text-align: right;\">\n",
       "      <th></th>\n",
       "      <th>source_url</th>\n",
       "      <th>access_datetime</th>\n",
       "      <th>content</th>\n",
       "      <th>words_count</th>\n",
       "      <th>number_of_words</th>\n",
       "    </tr>\n",
       "  </thead>\n",
       "  <tbody>\n",
       "    <tr>\n",
       "      <th>0</th>\n",
       "      <td>https://kun.uz/uz/news/2022/12/01/aqsh-moliya-...</td>\n",
       "      <td>2022-12-02 09:09:44</td>\n",
       "      <td>Rossiya neftining eng yuqori narxi bir barrel ...</td>\n",
       "      <td>131</td>\n",
       "      <td>{'Rossiya': 5, 'neftining': 2, 'eng': 1, 'yuqo...</td>\n",
       "    </tr>\n",
       "    <tr>\n",
       "      <th>1</th>\n",
       "      <td>https://kun.uz/uz/news/2022/12/01/interpol-afr...</td>\n",
       "      <td>2022-12-02 09:09:45</td>\n",
       "      <td>Interpol Angola sobiq prezidentining qizi Izab...</td>\n",
       "      <td>145</td>\n",
       "      <td>{'Interpol': 1, 'Angola': 3, 'sobiq': 1, 'prez...</td>\n",
       "    </tr>\n",
       "    <tr>\n",
       "      <th>2</th>\n",
       "      <td>https://kun.uz/uz/news/2022/12/01/ilon-masknin...</td>\n",
       "      <td>2022-12-02 09:09:46</td>\n",
       "      <td>Ilon Mask o‘ziga tegishli Neuralink miya-kompy...</td>\n",
       "      <td>153</td>\n",
       "      <td>{'Ilon': 1, 'Mask': 2, 'o‘ziga': 3, 'tegishli'...</td>\n",
       "    </tr>\n",
       "    <tr>\n",
       "      <th>3</th>\n",
       "      <td>https://kun.uz/uz/news/2022/12/01/jch-2022-mar...</td>\n",
       "      <td>2022-12-02 09:09:47</td>\n",
       "      <td>Xorvatiya – Belgiya o‘yinida hisob ochilmadi. ...</td>\n",
       "      <td>188</td>\n",
       "      <td>{'Xorvatiya': 4, '–': 12, 'Belgiya': 4, 'o‘yin...</td>\n",
       "    </tr>\n",
       "    <tr>\n",
       "      <th>4</th>\n",
       "      <td>https://kun.uz/uz/news/2022/12/01/nato-bosh-ko...</td>\n",
       "      <td>2022-12-02 09:09:47</td>\n",
       "      <td>Yyens Stoltenberg alyansning Rossiya Ukrainaga...</td>\n",
       "      <td>318</td>\n",
       "      <td>{'Yyens': 2, 'Stoltenberg': 2, 'alyansning': 2...</td>\n",
       "    </tr>\n",
       "  </tbody>\n",
       "</table>\n",
       "</div>"
      ],
      "text/plain": [
       "                                          source_url      access_datetime  \\\n",
       "0  https://kun.uz/uz/news/2022/12/01/aqsh-moliya-...  2022-12-02 09:09:44   \n",
       "1  https://kun.uz/uz/news/2022/12/01/interpol-afr...  2022-12-02 09:09:45   \n",
       "2  https://kun.uz/uz/news/2022/12/01/ilon-masknin...  2022-12-02 09:09:46   \n",
       "3  https://kun.uz/uz/news/2022/12/01/jch-2022-mar...  2022-12-02 09:09:47   \n",
       "4  https://kun.uz/uz/news/2022/12/01/nato-bosh-ko...  2022-12-02 09:09:47   \n",
       "\n",
       "                                             content  words_count  \\\n",
       "0  Rossiya neftining eng yuqori narxi bir barrel ...          131   \n",
       "1  Interpol Angola sobiq prezidentining qizi Izab...          145   \n",
       "2  Ilon Mask o‘ziga tegishli Neuralink miya-kompy...          153   \n",
       "3  Xorvatiya – Belgiya o‘yinida hisob ochilmadi. ...          188   \n",
       "4  Yyens Stoltenberg alyansning Rossiya Ukrainaga...          318   \n",
       "\n",
       "                                     number_of_words  \n",
       "0  {'Rossiya': 5, 'neftining': 2, 'eng': 1, 'yuqo...  \n",
       "1  {'Interpol': 1, 'Angola': 3, 'sobiq': 1, 'prez...  \n",
       "2  {'Ilon': 1, 'Mask': 2, 'o‘ziga': 3, 'tegishli'...  \n",
       "3  {'Xorvatiya': 4, '–': 12, 'Belgiya': 4, 'o‘yin...  \n",
       "4  {'Yyens': 2, 'Stoltenberg': 2, 'alyansning': 2...  "
      ]
     },
     "execution_count": 486,
     "metadata": {},
     "output_type": "execute_result"
    }
   ],
   "source": [
    "pd.read_csv(\"task.csv\")"
   ]
  },
  {
   "cell_type": "code",
   "execution_count": null,
   "id": "e9fc311b-f283-4b19-ac3c-976f54df7be6",
   "metadata": {},
   "outputs": [],
   "source": []
  }
 ],
 "metadata": {
  "kernelspec": {
   "display_name": "Python 3 (ipykernel)",
   "language": "python",
   "name": "python3"
  },
  "language_info": {
   "codemirror_mode": {
    "name": "ipython",
    "version": 3
   },
   "file_extension": ".py",
   "mimetype": "text/x-python",
   "name": "python",
   "nbconvert_exporter": "python",
   "pygments_lexer": "ipython3",
   "version": "3.7.6"
  }
 },
 "nbformat": 4,
 "nbformat_minor": 5
}
